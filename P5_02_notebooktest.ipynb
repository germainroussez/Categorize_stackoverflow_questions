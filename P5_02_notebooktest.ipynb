{
 "cells": [
  {
   "cell_type": "code",
   "execution_count": 1,
   "metadata": {},
   "outputs": [],
   "source": [
    "import pandas as pd\n",
    "import matplotlib.pyplot as plt\n",
    "import numpy as np\n",
    "import pickle\n",
    "\n",
    "from sklearn.feature_extraction.text import CountVectorizer\n",
    "from sklearn.metrics import f1_score, hamming_loss, jaccard_score\n",
    "from sklearn.naive_bayes import GaussianNB\n",
    "from sklearn.preprocessing import MultiLabelBinarizer\n",
    "from sklearn.ensemble import RandomForestClassifier, ExtraTreesClassifier\n",
    "from sklearn.neighbors import KNeighborsClassifier\n",
    "from sklearn.linear_model import LogisticRegression\n",
    "from sklearn import pipeline\n",
    "from sklearn.decomposition import LatentDirichletAllocation, NMF\n",
    "from sklearn.model_selection import GridSearchCV, train_test_split\n",
    "\n",
    "from skmultilearn.adapt import MLkNN\n",
    "from skmultilearn.problem_transform import LabelPowerset, BinaryRelevance, ClassifierChain\n",
    "\n",
    "from scipy.sparse import lil_matrix"
   ]
  },
  {
   "cell_type": "code",
   "execution_count": 2,
   "metadata": {},
   "outputs": [],
   "source": [
    "pd.set_option('display.float_format', lambda x: '%.3f' % x)\n",
    "pd.set_option('display.max_rows', 200)\n",
    "pd.set_option('display.max_columns', 200)\n",
    "pd.set_option('display.width', 1000)"
   ]
  },
  {
   "cell_type": "markdown",
   "metadata": {},
   "source": [
    "Import du dataset clean et mis en forme dans le précédent notebook"
   ]
  },
  {
   "cell_type": "code",
   "execution_count": 47,
   "metadata": {},
   "outputs": [],
   "source": [
    "path = 'Saves/Dataset_cleaned&shaped.pkl'\n",
    "df = pd.read_pickle(path)\n",
    "df = df.sample(n=5000, random_state=42)"
   ]
  },
  {
   "cell_type": "code",
   "execution_count": 48,
   "metadata": {
    "scrolled": false
   },
   "outputs": [
    {
     "data": {
      "text/html": [
       "<div>\n",
       "<style scoped>\n",
       "    .dataframe tbody tr th:only-of-type {\n",
       "        vertical-align: middle;\n",
       "    }\n",
       "\n",
       "    .dataframe tbody tr th {\n",
       "        vertical-align: top;\n",
       "    }\n",
       "\n",
       "    .dataframe thead th {\n",
       "        text-align: right;\n",
       "    }\n",
       "</style>\n",
       "<table border=\"1\" class=\"dataframe\">\n",
       "  <thead>\n",
       "    <tr style=\"text-align: right;\">\n",
       "      <th></th>\n",
       "      <th>Tags</th>\n",
       "      <th>Corpus</th>\n",
       "      <th>.net</th>\n",
       "      <th>ajax</th>\n",
       "      <th>algorithm</th>\n",
       "      <th>arrays</th>\n",
       "      <th>asp.net</th>\n",
       "      <th>asp.net-mvc</th>\n",
       "      <th>c</th>\n",
       "      <th>c#</th>\n",
       "      <th>c++</th>\n",
       "      <th>cocoa</th>\n",
       "      <th>cocoa-touch</th>\n",
       "      <th>css</th>\n",
       "      <th>database</th>\n",
       "      <th>debugging</th>\n",
       "      <th>delphi</th>\n",
       "      <th>django</th>\n",
       "      <th>eclipse</th>\n",
       "      <th>git</th>\n",
       "      <th>html</th>\n",
       "      <th>iphone</th>\n",
       "      <th>java</th>\n",
       "      <th>javascript</th>\n",
       "      <th>jquery</th>\n",
       "      <th>linq</th>\n",
       "      <th>linux</th>\n",
       "      <th>macos</th>\n",
       "      <th>multithreading</th>\n",
       "      <th>mysql</th>\n",
       "      <th>objective-c</th>\n",
       "      <th>performance</th>\n",
       "      <th>perl</th>\n",
       "      <th>php</th>\n",
       "      <th>python</th>\n",
       "      <th>regex</th>\n",
       "      <th>ruby</th>\n",
       "      <th>ruby-on-rails</th>\n",
       "      <th>security</th>\n",
       "      <th>sql</th>\n",
       "      <th>sql-server</th>\n",
       "      <th>string</th>\n",
       "      <th>svn</th>\n",
       "      <th>unit-testing</th>\n",
       "      <th>vb.net</th>\n",
       "      <th>visual-studio</th>\n",
       "      <th>visual-studio-2008</th>\n",
       "      <th>wcf</th>\n",
       "      <th>windows</th>\n",
       "      <th>winforms</th>\n",
       "      <th>wpf</th>\n",
       "      <th>xml</th>\n",
       "    </tr>\n",
       "  </thead>\n",
       "  <tbody>\n",
       "    <tr>\n",
       "      <th>92108</th>\n",
       "      <td>[unit-testing]</td>\n",
       "      <td>unit testing database test crud operation unit...</td>\n",
       "      <td>0</td>\n",
       "      <td>0</td>\n",
       "      <td>0</td>\n",
       "      <td>0</td>\n",
       "      <td>0</td>\n",
       "      <td>0</td>\n",
       "      <td>0</td>\n",
       "      <td>0</td>\n",
       "      <td>0</td>\n",
       "      <td>0</td>\n",
       "      <td>0</td>\n",
       "      <td>0</td>\n",
       "      <td>0</td>\n",
       "      <td>0</td>\n",
       "      <td>0</td>\n",
       "      <td>0</td>\n",
       "      <td>0</td>\n",
       "      <td>0</td>\n",
       "      <td>0</td>\n",
       "      <td>0</td>\n",
       "      <td>0</td>\n",
       "      <td>0</td>\n",
       "      <td>0</td>\n",
       "      <td>0</td>\n",
       "      <td>0</td>\n",
       "      <td>0</td>\n",
       "      <td>0</td>\n",
       "      <td>0</td>\n",
       "      <td>0</td>\n",
       "      <td>0</td>\n",
       "      <td>0</td>\n",
       "      <td>0</td>\n",
       "      <td>0</td>\n",
       "      <td>0</td>\n",
       "      <td>0</td>\n",
       "      <td>0</td>\n",
       "      <td>0</td>\n",
       "      <td>0</td>\n",
       "      <td>0</td>\n",
       "      <td>0</td>\n",
       "      <td>0</td>\n",
       "      <td>1</td>\n",
       "      <td>0</td>\n",
       "      <td>0</td>\n",
       "      <td>0</td>\n",
       "      <td>0</td>\n",
       "      <td>0</td>\n",
       "      <td>0</td>\n",
       "      <td>0</td>\n",
       "      <td>0</td>\n",
       "    </tr>\n",
       "    <tr>\n",
       "      <th>13874</th>\n",
       "      <td>[c#]</td>\n",
       "      <td>mouse cursor programmaticallyto start http swi...</td>\n",
       "      <td>0</td>\n",
       "      <td>0</td>\n",
       "      <td>0</td>\n",
       "      <td>0</td>\n",
       "      <td>0</td>\n",
       "      <td>0</td>\n",
       "      <td>0</td>\n",
       "      <td>1</td>\n",
       "      <td>0</td>\n",
       "      <td>0</td>\n",
       "      <td>0</td>\n",
       "      <td>0</td>\n",
       "      <td>0</td>\n",
       "      <td>0</td>\n",
       "      <td>0</td>\n",
       "      <td>0</td>\n",
       "      <td>0</td>\n",
       "      <td>0</td>\n",
       "      <td>0</td>\n",
       "      <td>0</td>\n",
       "      <td>0</td>\n",
       "      <td>0</td>\n",
       "      <td>0</td>\n",
       "      <td>0</td>\n",
       "      <td>0</td>\n",
       "      <td>0</td>\n",
       "      <td>0</td>\n",
       "      <td>0</td>\n",
       "      <td>0</td>\n",
       "      <td>0</td>\n",
       "      <td>0</td>\n",
       "      <td>0</td>\n",
       "      <td>0</td>\n",
       "      <td>0</td>\n",
       "      <td>0</td>\n",
       "      <td>0</td>\n",
       "      <td>0</td>\n",
       "      <td>0</td>\n",
       "      <td>0</td>\n",
       "      <td>0</td>\n",
       "      <td>0</td>\n",
       "      <td>0</td>\n",
       "      <td>0</td>\n",
       "      <td>0</td>\n",
       "      <td>0</td>\n",
       "      <td>0</td>\n",
       "      <td>0</td>\n",
       "      <td>0</td>\n",
       "      <td>0</td>\n",
       "      <td>0</td>\n",
       "    </tr>\n",
       "    <tr>\n",
       "      <th>8228</th>\n",
       "      <td>[c#]</td>\n",
       "      <td>reference desire overloaded generic method cor...</td>\n",
       "      <td>0</td>\n",
       "      <td>0</td>\n",
       "      <td>0</td>\n",
       "      <td>0</td>\n",
       "      <td>0</td>\n",
       "      <td>0</td>\n",
       "      <td>0</td>\n",
       "      <td>1</td>\n",
       "      <td>0</td>\n",
       "      <td>0</td>\n",
       "      <td>0</td>\n",
       "      <td>0</td>\n",
       "      <td>0</td>\n",
       "      <td>0</td>\n",
       "      <td>0</td>\n",
       "      <td>0</td>\n",
       "      <td>0</td>\n",
       "      <td>0</td>\n",
       "      <td>0</td>\n",
       "      <td>0</td>\n",
       "      <td>0</td>\n",
       "      <td>0</td>\n",
       "      <td>0</td>\n",
       "      <td>0</td>\n",
       "      <td>0</td>\n",
       "      <td>0</td>\n",
       "      <td>0</td>\n",
       "      <td>0</td>\n",
       "      <td>0</td>\n",
       "      <td>0</td>\n",
       "      <td>0</td>\n",
       "      <td>0</td>\n",
       "      <td>0</td>\n",
       "      <td>0</td>\n",
       "      <td>0</td>\n",
       "      <td>0</td>\n",
       "      <td>0</td>\n",
       "      <td>0</td>\n",
       "      <td>0</td>\n",
       "      <td>0</td>\n",
       "      <td>0</td>\n",
       "      <td>0</td>\n",
       "      <td>0</td>\n",
       "      <td>0</td>\n",
       "      <td>0</td>\n",
       "      <td>0</td>\n",
       "      <td>0</td>\n",
       "      <td>0</td>\n",
       "      <td>0</td>\n",
       "      <td>0</td>\n",
       "    </tr>\n",
       "    <tr>\n",
       "      <th>84930</th>\n",
       "      <td>[sql-server]</td>\n",
       "      <td>bad open close sql connection exact effect lot...</td>\n",
       "      <td>0</td>\n",
       "      <td>0</td>\n",
       "      <td>0</td>\n",
       "      <td>0</td>\n",
       "      <td>0</td>\n",
       "      <td>0</td>\n",
       "      <td>0</td>\n",
       "      <td>0</td>\n",
       "      <td>0</td>\n",
       "      <td>0</td>\n",
       "      <td>0</td>\n",
       "      <td>0</td>\n",
       "      <td>0</td>\n",
       "      <td>0</td>\n",
       "      <td>0</td>\n",
       "      <td>0</td>\n",
       "      <td>0</td>\n",
       "      <td>0</td>\n",
       "      <td>0</td>\n",
       "      <td>0</td>\n",
       "      <td>0</td>\n",
       "      <td>0</td>\n",
       "      <td>0</td>\n",
       "      <td>0</td>\n",
       "      <td>0</td>\n",
       "      <td>0</td>\n",
       "      <td>0</td>\n",
       "      <td>0</td>\n",
       "      <td>0</td>\n",
       "      <td>0</td>\n",
       "      <td>0</td>\n",
       "      <td>0</td>\n",
       "      <td>0</td>\n",
       "      <td>0</td>\n",
       "      <td>0</td>\n",
       "      <td>0</td>\n",
       "      <td>0</td>\n",
       "      <td>0</td>\n",
       "      <td>1</td>\n",
       "      <td>0</td>\n",
       "      <td>0</td>\n",
       "      <td>0</td>\n",
       "      <td>0</td>\n",
       "      <td>0</td>\n",
       "      <td>0</td>\n",
       "      <td>0</td>\n",
       "      <td>0</td>\n",
       "      <td>0</td>\n",
       "      <td>0</td>\n",
       "      <td>0</td>\n",
       "    </tr>\n",
       "    <tr>\n",
       "      <th>74677</th>\n",
       "      <td>[c#]</td>\n",
       "      <td>c xmldoc reference method overloadsif method p...</td>\n",
       "      <td>0</td>\n",
       "      <td>0</td>\n",
       "      <td>0</td>\n",
       "      <td>0</td>\n",
       "      <td>0</td>\n",
       "      <td>0</td>\n",
       "      <td>0</td>\n",
       "      <td>1</td>\n",
       "      <td>0</td>\n",
       "      <td>0</td>\n",
       "      <td>0</td>\n",
       "      <td>0</td>\n",
       "      <td>0</td>\n",
       "      <td>0</td>\n",
       "      <td>0</td>\n",
       "      <td>0</td>\n",
       "      <td>0</td>\n",
       "      <td>0</td>\n",
       "      <td>0</td>\n",
       "      <td>0</td>\n",
       "      <td>0</td>\n",
       "      <td>0</td>\n",
       "      <td>0</td>\n",
       "      <td>0</td>\n",
       "      <td>0</td>\n",
       "      <td>0</td>\n",
       "      <td>0</td>\n",
       "      <td>0</td>\n",
       "      <td>0</td>\n",
       "      <td>0</td>\n",
       "      <td>0</td>\n",
       "      <td>0</td>\n",
       "      <td>0</td>\n",
       "      <td>0</td>\n",
       "      <td>0</td>\n",
       "      <td>0</td>\n",
       "      <td>0</td>\n",
       "      <td>0</td>\n",
       "      <td>0</td>\n",
       "      <td>0</td>\n",
       "      <td>0</td>\n",
       "      <td>0</td>\n",
       "      <td>0</td>\n",
       "      <td>0</td>\n",
       "      <td>0</td>\n",
       "      <td>0</td>\n",
       "      <td>0</td>\n",
       "      <td>0</td>\n",
       "      <td>0</td>\n",
       "      <td>0</td>\n",
       "    </tr>\n",
       "  </tbody>\n",
       "</table>\n",
       "</div>"
      ],
      "text/plain": [
       "                 Tags                                             Corpus  .net  ajax  algorithm  arrays  asp.net  asp.net-mvc  c  c#  c++  cocoa  cocoa-touch  css  database  debugging  delphi  django  eclipse  git  html  iphone  java  javascript  jquery  linq  linux  macos  multithreading  mysql  objective-c  performance  perl  php  python  regex  ruby  ruby-on-rails  security  sql  sql-server  string  svn  unit-testing  vb.net  visual-studio  visual-studio-2008  wcf  windows  winforms  wpf  xml\n",
       "92108  [unit-testing]  unit testing database test crud operation unit...     0     0          0       0        0            0  0   0    0      0            0    0         0          0       0       0        0    0     0       0     0           0       0     0      0      0               0      0            0            0     0    0       0      0     0              0         0    0           0       0    0             1       0              0                   0    0        0         0    0    0\n",
       "13874            [c#]  mouse cursor programmaticallyto start http swi...     0     0          0       0        0            0  0   1    0      0            0    0         0          0       0       0        0    0     0       0     0           0       0     0      0      0               0      0            0            0     0    0       0      0     0              0         0    0           0       0    0             0       0              0                   0    0        0         0    0    0\n",
       "8228             [c#]  reference desire overloaded generic method cor...     0     0          0       0        0            0  0   1    0      0            0    0         0          0       0       0        0    0     0       0     0           0       0     0      0      0               0      0            0            0     0    0       0      0     0              0         0    0           0       0    0             0       0              0                   0    0        0         0    0    0\n",
       "84930    [sql-server]  bad open close sql connection exact effect lot...     0     0          0       0        0            0  0   0    0      0            0    0         0          0       0       0        0    0     0       0     0           0       0     0      0      0               0      0            0            0     0    0       0      0     0              0         0    0           1       0    0             0       0              0                   0    0        0         0    0    0\n",
       "74677            [c#]  c xmldoc reference method overloadsif method p...     0     0          0       0        0            0  0   1    0      0            0    0         0          0       0       0        0    0     0       0     0           0       0     0      0      0               0      0            0            0     0    0       0      0     0              0         0    0           0       0    0             0       0              0                   0    0        0         0    0    0"
      ]
     },
     "execution_count": 48,
     "metadata": {},
     "output_type": "execute_result"
    }
   ],
   "source": [
    "df.head()"
   ]
  },
  {
   "cell_type": "markdown",
   "metadata": {},
   "source": [
    "Import du multilabel_binarizer entrainé dans le notebook précédent"
   ]
  },
  {
   "cell_type": "code",
   "execution_count": 49,
   "metadata": {},
   "outputs": [],
   "source": [
    "filename = 'Saves/multilabel_binarizer.pkl'\n",
    "multilabel_binarizer = pickle.load(open(filename, 'rb'))"
   ]
  },
  {
   "cell_type": "markdown",
   "metadata": {},
   "source": [
    "# 1. Constitution d'un jeu de données train & test"
   ]
  },
  {
   "cell_type": "markdown",
   "metadata": {},
   "source": [
    "Il est à présent possible de couper en deux le dataset avec une partie servant d'apprentissage et l'autre au test du model. On utilise ici les variables Corpus et Tags pour les raisons définies précédemment."
   ]
  },
  {
   "cell_type": "code",
   "execution_count": 50,
   "metadata": {},
   "outputs": [
    {
     "name": "stdout",
     "output_type": "stream",
     "text": [
      "Length of train set : 3350\n",
      "Length of test set : 1650\n"
     ]
    }
   ],
   "source": [
    "train, test = train_test_split(df, test_size=0.33, random_state=42)\n",
    "print(\"Length of train set : {}\".format(len(train)))\n",
    "print(\"Length of test set : {}\".format(len(test)))"
   ]
  },
  {
   "cell_type": "markdown",
   "metadata": {},
   "source": [
    "Il est maintenant possible de diviser chaque étape du dataset en 2 parties:"
   ]
  },
  {
   "cell_type": "code",
   "execution_count": 51,
   "metadata": {},
   "outputs": [],
   "source": [
    "X_train, y_train = train.Corpus, train.drop(['Corpus', 'Tags'], axis=1)\n",
    "X_test, y_test = test.Corpus, test.drop(['Corpus', 'Tags'], axis=1)"
   ]
  },
  {
   "cell_type": "markdown",
   "metadata": {},
   "source": [
    "# 2. Représentation des données sous forme de sacs de mots (bag of words)"
   ]
  },
  {
   "cell_type": "markdown",
   "metadata": {},
   "source": [
    "## 2.1. Création du Bag of Words"
   ]
  },
  {
   "cell_type": "markdown",
   "metadata": {},
   "source": [
    "L'une des méthodes les plus simples, mais aussi les plus efficaces et les plus courantes, servant à transformer les textes afin de leur donner un format reconnaissable pour l'apprentissqge automatique, consiste à utiliser une représentation dites par sacs de mots (bag of words). Avec cette représentation, nous éliminons l'essentiel de la structure du texte présenté en entrée, comme les chapitres, les paragraphes, les phrases et tout ce qui concerne le formatage, et nous comptons uniquement le nombre d'apparitions de chaque mot dans chaque texte du corpus.\n",
    "\n",
    "Calculer la représentation par sac de mots d'un corpus consiste à suivre une succession de trois étapes:\n",
    "+ Tokenisation. Ce terme désigne le fait de partager un document dans les mots qui le composent, par exemple pour distinguer les espaces ou encore les signes de ponctuation. Un texte devient alors une séquence de tokens.\n",
    "+ Construction du vocabulaire. Cela consiste à former un vocabulaire en collectant tous les mots qui apparaissent dans les documents afin de constituer un dictionnaire, et à les numéroter (par exemple dans l'ordre alphabétique).\n",
    "+ Encodage. Pour chaque document, cette étape consiste à dénombrer le nombre d'occurence de chaque mot du vocabulaire.\n",
    "\n",
    "Appliquons donc ces trois étapes sur notre jeu de données de stackoverflow."
   ]
  },
  {
   "cell_type": "code",
   "execution_count": 52,
   "metadata": {},
   "outputs": [
    {
     "name": "stdout",
     "output_type": "stream",
     "text": [
      "X_train.shape : (3350,)\n",
      "X_test.shape : (1650,)\n"
     ]
    }
   ],
   "source": [
    "print(\"X_train.shape : {}\".format(X_train.shape))\n",
    "print(\"X_test.shape : {}\".format(X_test.shape))"
   ]
  },
  {
   "cell_type": "code",
   "execution_count": 53,
   "metadata": {},
   "outputs": [],
   "source": [
    "custom_vectorizer = CountVectorizer(tokenizer=None, stop_words=None, min_df=5) "
   ]
  },
  {
   "cell_type": "code",
   "execution_count": 54,
   "metadata": {},
   "outputs": [],
   "source": [
    "custom_vectorizer.fit(X_train)\n",
    "custom_vectorizer.fit(X_test)\n",
    "X_train_BOW = custom_vectorizer.transform(X_train)\n",
    "X_test_BOW = custom_vectorizer.transform(X_test)"
   ]
  },
  {
   "cell_type": "code",
   "execution_count": 55,
   "metadata": {},
   "outputs": [],
   "source": [
    "filename = 'Saves/custom_vectorizer.pkl'\n",
    "pickle.dump(custom_vectorizer, open(filename, 'wb'))"
   ]
  },
  {
   "cell_type": "code",
   "execution_count": 56,
   "metadata": {},
   "outputs": [
    {
     "name": "stdout",
     "output_type": "stream",
     "text": [
      "X_train_BOW.shape : (3350, 1566)\n",
      "X_test_BOW.shape : (1650, 1566)\n"
     ]
    }
   ],
   "source": [
    "print(\"X_train_BOW.shape : {}\".format(X_train_BOW.shape))\n",
    "print(\"X_test_BOW.shape : {}\".format(X_test_BOW.shape))"
   ]
  },
  {
   "cell_type": "markdown",
   "metadata": {},
   "source": [
    "# Binary Relevance"
   ]
  },
  {
   "cell_type": "code",
   "execution_count": 15,
   "metadata": {
    "scrolled": true
   },
   "outputs": [],
   "source": [
    "br_classifier = BinaryRelevance(GaussianNB())\n",
    "br_classifier.fit(X_train_BOW, y_train)\n",
    "br_predictions = br_classifier.predict(X_test_BOW)"
   ]
  },
  {
   "cell_type": "code",
   "execution_count": 16,
   "metadata": {},
   "outputs": [
    {
     "name": "stdout",
     "output_type": "stream",
     "text": [
      "F1 score = 0.22428824723312993\n",
      "Jaccard score = 0.1583509477911398\n",
      "Hamming loss = 0.19054501314990896\n"
     ]
    }
   ],
   "source": [
    "print(\"F1 score = {}\".format(f1_score(y_test, br_predictions, average=\"samples\")))\n",
    "print(\"Jaccard score = {}\".format(jaccard_score(y_test, br_predictions, average='samples')))\n",
    "print(\"Hamming loss = {}\".format(hamming_loss(y_test, br_predictions)))"
   ]
  },
  {
   "cell_type": "markdown",
   "metadata": {},
   "source": [
    "# K Neighbors"
   ]
  },
  {
   "cell_type": "code",
   "execution_count": 17,
   "metadata": {},
   "outputs": [],
   "source": [
    "kn_classifier = KNeighborsClassifier()\n",
    "kn_classifier.fit(X_train_BOW, y_train)\n",
    "kn_predictions = kn_classifier.predict(X_test_BOW)"
   ]
  },
  {
   "cell_type": "code",
   "execution_count": 18,
   "metadata": {},
   "outputs": [
    {
     "name": "stdout",
     "output_type": "stream",
     "text": [
      "F1 score = 0.26487018679614266\n",
      "Jaccard score = 0.23798300627149502\n",
      "Hamming loss = 0.026638883269269675\n"
     ]
    }
   ],
   "source": [
    "print(\"F1 score = {}\".format(f1_score(y_test, kn_predictions, average=\"samples\")))\n",
    "print(\"Jaccard score = {}\".format(jaccard_score(y_test, kn_predictions, average='samples')))\n",
    "print(\"Hamming loss = {}\".format(hamming_loss(y_test, kn_predictions)))"
   ]
  },
  {
   "cell_type": "markdown",
   "metadata": {},
   "source": [
    "# MLkNN"
   ]
  },
  {
   "cell_type": "code",
   "execution_count": 19,
   "metadata": {},
   "outputs": [],
   "source": [
    "# to prevent errors when handling sparse matrices.\n",
    "X_train_BOW_MLkNN = lil_matrix(X_train_BOW).toarray()\n",
    "y_train_BOW_MLkNN = lil_matrix(y_train).toarray()\n",
    "X_test_BOW_MLkNN = lil_matrix(X_test_BOW).toarray()"
   ]
  },
  {
   "cell_type": "code",
   "execution_count": null,
   "metadata": {
    "collapsed": true
   },
   "outputs": [
    {
     "name": "stderr",
     "output_type": "stream",
     "text": [
      "C:\\Users\\germa\\anaconda3\\lib\\site-packages\\sklearn\\utils\\validation.py:68: FutureWarning: Pass n_neighbors=10 as keyword args. From version 0.25 passing these as positional arguments will result in an error\n",
      "  warnings.warn(\"Pass {} as keyword args. From version 0.25 \"\n"
     ]
    }
   ],
   "source": [
    "ml_classifier = MLkNN(k=10)\n",
    "ml_classifier.fit(X_train_BOW_MLkNN, y_train_BOW_MLkNN)\n",
    "ml_predictions = ml_classifier.predict(X_test_BOW_MLkNN)"
   ]
  },
  {
   "cell_type": "code",
   "execution_count": 87,
   "metadata": {},
   "outputs": [
    {
     "name": "stdout",
     "output_type": "stream",
     "text": [
      "F1 score = 0.2386060606060606\n",
      "Jaccard score = 0.2146464646464646\n",
      "Hamming loss = 0.02703030303030303\n"
     ]
    }
   ],
   "source": [
    "print(\"F1 score = {}\".format(f1_score(y_test, ml_predictions, average=\"samples\")))\n",
    "print(\"Jaccard score = {}\".format(jaccard_score(y_test, ml_predictions, average='samples')))\n",
    "print(\"Hamming loss = {}\".format(hamming_loss(y_test, ml_predictions)))"
   ]
  },
  {
   "cell_type": "markdown",
   "metadata": {},
   "source": [
    "# Extra Trees"
   ]
  },
  {
   "cell_type": "code",
   "execution_count": 88,
   "metadata": {},
   "outputs": [],
   "source": [
    "et_classifier = ExtraTreesClassifier(n_estimators=50)\n",
    "et_classifier = et_classifier.fit(X_train_BOW, y_train)\n",
    "et_predictions = et_classifier.predict(X_test_BOW)"
   ]
  },
  {
   "cell_type": "code",
   "execution_count": 89,
   "metadata": {
    "scrolled": true
   },
   "outputs": [
    {
     "name": "stdout",
     "output_type": "stream",
     "text": [
      "F1 score = 0.3472424242424243\n",
      "Jaccard score = 0.3227777777777777\n",
      "Hamming loss = 0.022006060606060605\n"
     ]
    }
   ],
   "source": [
    "print(\"F1 score = {}\".format(f1_score(y_test, et_predictions, average=\"samples\")))\n",
    "print(\"Jaccard score = {}\".format(jaccard_score(y_test, et_predictions, average='samples')))\n",
    "print(\"Hamming loss = {}\".format(hamming_loss(y_test, et_predictions)))"
   ]
  },
  {
   "cell_type": "markdown",
   "metadata": {},
   "source": [
    "# Random Forest"
   ]
  },
  {
   "cell_type": "code",
   "execution_count": 90,
   "metadata": {},
   "outputs": [],
   "source": [
    "rf_classifier = RandomForestClassifier(n_estimators=50)\n",
    "rf_classifier = rf_classifier.fit(X_train_BOW, y_train)\n",
    "rf_predictions = rf_classifier.predict(X_test_BOW)"
   ]
  },
  {
   "cell_type": "code",
   "execution_count": 91,
   "metadata": {},
   "outputs": [
    {
     "name": "stdout",
     "output_type": "stream",
     "text": [
      "F1 score = 0.38699999999999996\n",
      "Jaccard score = 0.35926767676767674\n",
      "Hamming loss = 0.021757575757575757\n"
     ]
    }
   ],
   "source": [
    "print(\"F1 score = {}\".format(f1_score(y_test, rf_predictions, average=\"samples\")))\n",
    "print(\"Jaccard score = {}\".format(jaccard_score(y_test, rf_predictions, average='samples')))\n",
    "print(\"Hamming loss = {}\".format(hamming_loss(y_test, rf_predictions)))"
   ]
  },
  {
   "cell_type": "markdown",
   "metadata": {},
   "source": [
    "# Label Powerset"
   ]
  },
  {
   "cell_type": "code",
   "execution_count": 92,
   "metadata": {},
   "outputs": [
    {
     "name": "stderr",
     "output_type": "stream",
     "text": [
      "C:\\Users\\germa\\anaconda3\\lib\\site-packages\\sklearn\\linear_model\\_logistic.py:762: ConvergenceWarning: lbfgs failed to converge (status=1):\n",
      "STOP: TOTAL NO. of ITERATIONS REACHED LIMIT.\n",
      "\n",
      "Increase the number of iterations (max_iter) or scale the data as shown in:\n",
      "    https://scikit-learn.org/stable/modules/preprocessing.html\n",
      "Please also refer to the documentation for alternative solver options:\n",
      "    https://scikit-learn.org/stable/modules/linear_model.html#logistic-regression\n",
      "  n_iter_i = _check_optimize_result(\n"
     ]
    }
   ],
   "source": [
    "lp_classifier = LabelPowerset(LogisticRegression())\n",
    "lp_classifier.fit(X_train_BOW, y_train)\n",
    "lp_predictions = lp_classifier.predict(X_test_BOW)"
   ]
  },
  {
   "cell_type": "code",
   "execution_count": 93,
   "metadata": {},
   "outputs": [
    {
     "name": "stdout",
     "output_type": "stream",
     "text": [
      "F1 score = 0.5253910533910534\n",
      "Jaccard score = 0.47862121212121206\n",
      "Hamming loss = 0.02583030303030303\n"
     ]
    }
   ],
   "source": [
    "print(\"F1 score = {}\".format(f1_score(y_test, lp_predictions, average=\"samples\")))\n",
    "print(\"Jaccard score = {}\".format(jaccard_score(y_test, lp_predictions, average='samples')))\n",
    "print(\"Hamming loss = {}\".format(hamming_loss(y_test, lp_predictions)))"
   ]
  },
  {
   "cell_type": "markdown",
   "metadata": {},
   "source": [
    "# Classifier Chain"
   ]
  },
  {
   "cell_type": "code",
   "execution_count": 94,
   "metadata": {},
   "outputs": [
    {
     "name": "stderr",
     "output_type": "stream",
     "text": [
      "C:\\Users\\germa\\anaconda3\\lib\\site-packages\\sklearn\\linear_model\\_logistic.py:762: ConvergenceWarning: lbfgs failed to converge (status=1):\n",
      "STOP: TOTAL NO. of ITERATIONS REACHED LIMIT.\n",
      "\n",
      "Increase the number of iterations (max_iter) or scale the data as shown in:\n",
      "    https://scikit-learn.org/stable/modules/preprocessing.html\n",
      "Please also refer to the documentation for alternative solver options:\n",
      "    https://scikit-learn.org/stable/modules/linear_model.html#logistic-regression\n",
      "  n_iter_i = _check_optimize_result(\n",
      "C:\\Users\\germa\\anaconda3\\lib\\site-packages\\sklearn\\linear_model\\_logistic.py:762: ConvergenceWarning: lbfgs failed to converge (status=1):\n",
      "STOP: TOTAL NO. of ITERATIONS REACHED LIMIT.\n",
      "\n",
      "Increase the number of iterations (max_iter) or scale the data as shown in:\n",
      "    https://scikit-learn.org/stable/modules/preprocessing.html\n",
      "Please also refer to the documentation for alternative solver options:\n",
      "    https://scikit-learn.org/stable/modules/linear_model.html#logistic-regression\n",
      "  n_iter_i = _check_optimize_result(\n"
     ]
    }
   ],
   "source": [
    "#for the next classifier we need to remove from y-train, y-test categories which equal 0 for all train samples\n",
    "selected_labels = y_train.columns[y_train.sum(axis=0, skipna=True) > 0].tolist()\n",
    "y_train_CC = y_train.filter(selected_labels, axis=1)\n",
    "y_test_CC = y_test.filter(selected_labels, axis=1)\n",
    "\n",
    "cc_classifier = ClassifierChain(LogisticRegression())\n",
    "cc_classifier.fit(X_train_BOW, y_train_CC)\n",
    "cc_predictions_proba = cc_classifier.predict_proba(X_test_BOW)"
   ]
  },
  {
   "cell_type": "code",
   "execution_count": 95,
   "metadata": {
    "scrolled": false
   },
   "outputs": [],
   "source": [
    "#for plotting metrics as a function of threashold\n",
    "th = []\n",
    "f = []\n",
    "jac = []\n",
    "ham = []\n",
    "\n",
    "for t in range (1,101): # threshold value\n",
    "    y_pred_new = (cc_predictions_proba >= t/100).astype(int)\n",
    "    th.append(t/100)\n",
    "    f.append(f1_score(y_test_CC, y_pred_new, average=\"samples\"))\n",
    "    jac.append(jaccard_score(y_test_CC, y_pred_new, average='samples'))\n",
    "    ham.append(hamming_loss(y_test_CC, y_pred_new))"
   ]
  },
  {
   "cell_type": "code",
   "execution_count": 96,
   "metadata": {
    "scrolled": false
   },
   "outputs": [
    {
     "data": {
      "image/png": "[encoded data removed]",
      "text/plain": [
       "<Figure size 864x432 with 1 Axes>"
      ]
     },
     "metadata": {},
     "output_type": "display_data"
    }
   ],
   "source": [
    "plt.rcParams[\"figure.figsize\"] = (12, 6)\n",
    "\n",
    "with plt.style.context('ggplot'):\n",
    "    plt.plot(th, f)\n",
    "    plt.plot(th, jac)\n",
    "    plt.plot(th, ham)\n",
    "    plt.legend(['F1', 'Jaccard', 'Hamming loss'], loc='center left', fontsize=14)\n",
    "    plt.ylabel(\"Metrics\", fontsize=14)\n",
    "    plt.xlabel(\"Threshold\", fontsize=14)\n",
    "    plt.title(\"Classifier Chain Model\", fontsize=18)\n",
    "\n",
    "plt.show()"
   ]
  },
  {
   "cell_type": "markdown",
   "metadata": {},
   "source": [
    "# Optimisation des meilleurs modèles supervisés"
   ]
  },
  {
   "cell_type": "markdown",
   "metadata": {},
   "source": [
    "## Label Powerset"
   ]
  },
  {
   "cell_type": "code",
   "execution_count": null,
   "metadata": {},
   "outputs": [],
   "source": [
    "parameters = [\n",
    "    {'classifier' : [LogisticRegression()],\n",
    "     'classifier__penalty' : ['l1', 'l2'],\n",
    "     'classifier__C' : np.logspace(-4, 4, 20),\n",
    "     'classifier__solver' : ['liblinear']\n",
    "    },\n",
    "    {'classifier' : [RandomForestClassifier()],\n",
    "     'classifier__n_estimators' : list(range(10,250,25)),\n",
    "     'classifier__max_features' : list(range(5,40,5))\n",
    "    }\n",
    "]\n",
    "\n",
    "scr = {'F1': 'f1_samples', 'Jaccard': 'jaccard_samples'}\n",
    "\n",
    "clf = GridSearchCV(LabelPowerset(), parameters, scoring=scr, refit='F1', n_jobs=-1)\n",
    "clf.fit(X_train_BOW, y_train)\n",
    "\n",
    "print(clf.best_params_, clf.best_score_)"
   ]
  },
  {
   "cell_type": "code",
   "execution_count": 38,
   "metadata": {},
   "outputs": [],
   "source": [
    "BEST_lp_classifier = LabelPowerset(RandomForestClassifier(max_features='log2', n_estimators=100, n_jobs=-1))\n",
    "BEST_lp_classifier.fit(X_train_BOW, y_train)\n",
    "BEST_lp_prediction = BEST_lp_classifier.predict(X_test_BOW)"
   ]
  },
  {
   "cell_type": "code",
   "execution_count": 39,
   "metadata": {},
   "outputs": [
    {
     "name": "stdout",
     "output_type": "stream",
     "text": [
      "F1 score = 0.5196767676767677\n",
      "Jaccard score = 0.47570707070707074\n",
      "Hamming loss = 0.02493333333333333\n"
     ]
    }
   ],
   "source": [
    "print(\"F1 score = {}\".format(f1_score(y_test, BEST_lp_prediction, average=\"samples\")))\n",
    "print(\"Jaccard score = {}\".format(jaccard_score(y_test, BEST_lp_prediction, average='samples')))\n",
    "print(\"Hamming loss = {}\".format(hamming_loss(y_test, BEST_lp_prediction)))"
   ]
  },
  {
   "cell_type": "code",
   "execution_count": 40,
   "metadata": {},
   "outputs": [],
   "source": [
    "filename = 'Saves/lp_classifier.pkl'\n",
    "pickle.dump(BEST_lp_classifier, open(filename, 'wb'))"
   ]
  },
  {
   "cell_type": "markdown",
   "metadata": {},
   "source": [
    "## Chain Classifier"
   ]
  },
  {
   "cell_type": "code",
   "execution_count": 89,
   "metadata": {},
   "outputs": [
    {
     "name": "stdout",
     "output_type": "stream",
     "text": [
      "{'classifier': LogisticRegression(C=1.623776739188721, penalty='l1', solver='liblinear'), 'classifier__C': 1.623776739188721, 'classifier__penalty': 'l1', 'classifier__solver': 'liblinear'} 0.5136651267472162\n"
     ]
    }
   ],
   "source": [
    "parameters = [\n",
    "    {'classifier' : [LogisticRegression()],\n",
    "     'classifier__penalty' : ['l1', 'l2'],\n",
    "     'classifier__C' : np.logspace(-4, 4, 20),\n",
    "     'classifier__solver' : ['liblinear']\n",
    "    },\n",
    "    {'classifier' : [RandomForestClassifier()],\n",
    "     'classifier__n_estimators' : list(range(10,101,10)),\n",
    "     'classifier__max_features' : list(range(6,32,5))\n",
    "    }\n",
    "]\n",
    "\n",
    "scr = {'F1': 'f1_samples', 'Jaccard': 'jaccard_samples'}\n",
    "\n",
    "clf = GridSearchCV(ClassifierChain(), parameters, scoring=scr, refit='F1')\n",
    "clf.fit(X_train_BOW, y_train)\n",
    "\n",
    "print(clf.best_params_, clf.best_score_)"
   ]
  },
  {
   "cell_type": "code",
   "execution_count": 41,
   "metadata": {},
   "outputs": [],
   "source": [
    "#for the next classifier we need to remove from y-train, y-test categories which equal 0 for all train samples\n",
    "selected_labels = y_train.columns[y_train.sum(axis=0, skipna=True) > 0].tolist()\n",
    "y_train_CC = y_train.filter(selected_labels, axis=1)\n",
    "y_test_CC = y_test.filter(selected_labels, axis=1)\n",
    "\n",
    "BEST_cc_classifier = ClassifierChain(LogisticRegression(C=1.623776739188721, penalty='l1', solver='liblinear'))\n",
    "BEST_cc_classifier.fit(X_train_BOW, y_train_CC)\n",
    "BEST_cc_predictions_proba = BEST_cc_classifier.predict_proba(X_test_BOW)"
   ]
  },
  {
   "cell_type": "code",
   "execution_count": 44,
   "metadata": {},
   "outputs": [],
   "source": [
    "#for plotting metrics as a function of threashold\n",
    "th = []\n",
    "f = []\n",
    "jac = []\n",
    "ham = []\n",
    "\n",
    "for t in range (1,101): # threshold value\n",
    "    y_pred_new = (BEST_cc_predictions_proba >= t/100).astype(int)\n",
    "    th.append(t/100)\n",
    "    f.append(f1_score(y_test_CC, y_pred_new, average=\"samples\"))\n",
    "    jac.append(jaccard_score(y_test_CC, y_pred_new, average='samples'))\n",
    "    ham.append(hamming_loss(y_test_CC, y_pred_new))"
   ]
  },
  {
   "cell_type": "code",
   "execution_count": 45,
   "metadata": {},
   "outputs": [
    {
     "data": {
      "image/png": "[encoded data removed]",
      "text/plain": [
       "<Figure size 864x432 with 1 Axes>"
      ]
     },
     "metadata": {},
     "output_type": "display_data"
    }
   ],
   "source": [
    "plt.rcParams[\"figure.figsize\"] = (12, 6)\n",
    "\n",
    "with plt.style.context('ggplot'):\n",
    "    plt.plot(th, f)\n",
    "    plt.plot(th, jac)\n",
    "    plt.plot(th, ham)\n",
    "    plt.legend(['F1', 'Jaccard', 'Hamming loss'], loc='center left', fontsize=14)\n",
    "    plt.ylabel(\"Metrics\", fontsize=14)\n",
    "    plt.xlabel(\"Threshold\", fontsize=14)\n",
    "    plt.title(\"Classifier Chain Model\", fontsize=18)\n",
    "\n",
    "plt.show()"
   ]
  },
  {
   "cell_type": "code",
   "execution_count": 46,
   "metadata": {},
   "outputs": [],
   "source": [
    "filename = 'Saves/cc_classifier.pkl'\n",
    "pickle.dump(BEST_cc_classifier, open(filename, 'wb'))"
   ]
  },
  {
   "cell_type": "markdown",
   "metadata": {},
   "source": [
    "# Prédiction semi-supervisée"
   ]
  },
  {
   "cell_type": "markdown",
   "metadata": {},
   "source": [
    "Maintenant que les tests de prédiction non-supervisé et supervisés ont été menés à bien, il s'agit de selectionner les meilleurs et les combiner. Voici les modèles retenus:\n",
    "- Label Powerset en prédiction supervisée\n",
    "- Classifier Chain en prédiction supervisée\n",
    "- LDA en prédiction non-supervisée"
   ]
  },
  {
   "cell_type": "markdown",
   "metadata": {},
   "source": [
    "## LDA"
   ]
  },
  {
   "cell_type": "code",
   "execution_count": 134,
   "metadata": {},
   "outputs": [],
   "source": [
    "lda = LatentDirichletAllocation(learning_method=\"batch\", max_iter=25, random_state=42)"
   ]
  },
  {
   "cell_type": "code",
   "execution_count": 135,
   "metadata": {},
   "outputs": [],
   "source": [
    "pip = pipeline.Pipeline(steps=[(\"lda\", lda), (\"classifier_chain\", BEST_cc_classifier)])"
   ]
  },
  {
   "cell_type": "code",
   "execution_count": 136,
   "metadata": {},
   "outputs": [],
   "source": [
    "param_grid = {\n",
    "    'lda__n_components': list(range(0, 1001, 25))\n",
    "}\n",
    "scr = {'F1': 'f1_samples', 'Jaccard': 'jaccard_samples'}"
   ]
  },
  {
   "cell_type": "code",
   "execution_count": 137,
   "metadata": {},
   "outputs": [],
   "source": [
    "search = GridSearchCV(pip, param_grid, scoring=scr, refit='F1', n_jobs=-1)"
   ]
  },
  {
   "cell_type": "code",
   "execution_count": 138,
   "metadata": {},
   "outputs": [
    {
     "data": {
      "text/plain": [
       "GridSearchCV(estimator=Pipeline(steps=[('lda',\n",
       "                                        LatentDirichletAllocation(max_iter=25,\n",
       "                                                                  random_state=42)),\n",
       "                                       ('classifier_chain',\n",
       "                                        ClassifierChain(classifier=LogisticRegression(C=1.623776739188721,\n",
       "                                                                                      penalty='l1',\n",
       "                                                                                      solver='liblinear'),\n",
       "                                                        require_dense=[True,\n",
       "                                                                       True]))]),\n",
       "             n_jobs=-1,\n",
       "             param_grid={'lda__n_components': [0, 25, 50, 75, 100, 125, 150,\n",
       "                                               175, 200, 225, 250, 275, 300,\n",
       "                                               325, 350, 375, 400, 425, 450,\n",
       "                                               475, 500, 525, 550, 575, 600,\n",
       "                                               625, 650, 675, 700, 725, ...]},\n",
       "             refit='F1',\n",
       "             scoring={'F1': 'f1_samples', 'Jaccard': 'jaccard_samples'})"
      ]
     },
     "execution_count": 138,
     "metadata": {},
     "output_type": "execute_result"
    }
   ],
   "source": [
    "search.fit(X_train_BOW, y_train)"
   ]
  },
  {
   "cell_type": "code",
   "execution_count": 139,
   "metadata": {},
   "outputs": [
    {
     "name": "stdout",
     "output_type": "stream",
     "text": [
      "{'lda__n_components': 975} 0.3130536602700781\n"
     ]
    }
   ],
   "source": [
    "print(search.best_params_, search.best_score_)"
   ]
  },
  {
   "cell_type": "markdown",
   "metadata": {},
   "source": [
    "## NMF"
   ]
  },
  {
   "cell_type": "code",
   "execution_count": 141,
   "metadata": {},
   "outputs": [],
   "source": [
    "nmf = NMF(max_iter=25, random_state=42)"
   ]
  },
  {
   "cell_type": "code",
   "execution_count": 142,
   "metadata": {},
   "outputs": [],
   "source": [
    "pip_nmf = pipeline.Pipeline(steps=[(\"nmf\", nmf), (\"classifier_chain\", BEST_cc_classifier)])"
   ]
  },
  {
   "cell_type": "code",
   "execution_count": 143,
   "metadata": {},
   "outputs": [],
   "source": [
    "param_grid = {\n",
    "    'nmf__n_components': list(range(0, 1001, 25))\n",
    "}\n",
    "scr = {'F1': 'f1_samples', 'Jaccard': 'jaccard_samples'}"
   ]
  },
  {
   "cell_type": "code",
   "execution_count": 144,
   "metadata": {},
   "outputs": [],
   "source": [
    "search_nmf = GridSearchCV(pip_nmf, param_grid, scoring=scr, refit='F1', n_jobs=-1)"
   ]
  },
  {
   "cell_type": "code",
   "execution_count": 145,
   "metadata": {},
   "outputs": [
    {
     "name": "stderr",
     "output_type": "stream",
     "text": [
      "C:\\Users\\germa\\anaconda3\\lib\\site-packages\\sklearn\\decomposition\\_nmf.py:1076: ConvergenceWarning: Maximum number of iterations 25 reached. Increase it to improve convergence.\n",
      "  warnings.warn(\"Maximum number of iterations %d reached. Increase it to\"\n"
     ]
    },
    {
     "data": {
      "text/plain": [
       "GridSearchCV(estimator=Pipeline(steps=[('nmf',\n",
       "                                        NMF(max_iter=25, random_state=42)),\n",
       "                                       ('classifier_chain',\n",
       "                                        ClassifierChain(classifier=LogisticRegression(C=1.623776739188721,\n",
       "                                                                                      penalty='l1',\n",
       "                                                                                      solver='liblinear'),\n",
       "                                                        require_dense=[True,\n",
       "                                                                       True]))]),\n",
       "             n_jobs=-1,\n",
       "             param_grid={'nmf__n_components': [0, 25, 50, 75, 100, 125, 150,\n",
       "                                               175, 200, 225, 250, 275, 300,\n",
       "                                               325, 350, 375, 400, 425, 450,\n",
       "                                               475, 500, 525, 550, 575, 600,\n",
       "                                               625, 650, 675, 700, 725, ...]},\n",
       "             refit='F1',\n",
       "             scoring={'F1': 'f1_samples', 'Jaccard': 'jaccard_samples'})"
      ]
     },
     "execution_count": 145,
     "metadata": {},
     "output_type": "execute_result"
    }
   ],
   "source": [
    "search_nmf.fit(X_train_BOW, y_train)"
   ]
  },
  {
   "cell_type": "code",
   "execution_count": 146,
   "metadata": {},
   "outputs": [
    {
     "name": "stdout",
     "output_type": "stream",
     "text": [
      "{'nmf__n_components': 725} 0.35269900497512435\n"
     ]
    }
   ],
   "source": [
    "print(search_nmf.best_params_, search_nmf.best_score_)"
   ]
  }
 ],
 "metadata": {
  "kernelspec": {
   "display_name": "Python 3",
   "language": "python",
   "name": "python3"
  },
  "language_info": {
   "codemirror_mode": {
    "name": "ipython",
    "version": 3
   },
   "file_extension": ".py",
   "mimetype": "text/x-python",
   "name": "python",
   "nbconvert_exporter": "python",
   "pygments_lexer": "ipython3",
   "version": "3.8.3"
  }
 },
 "nbformat": 4,
 "nbformat_minor": 4
}
